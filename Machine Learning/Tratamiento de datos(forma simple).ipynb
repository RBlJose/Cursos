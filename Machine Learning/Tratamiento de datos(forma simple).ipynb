{
 "cells": [
  {
   "cell_type": "code",
   "execution_count": 1,
   "metadata": {},
   "outputs": [
    {
     "data": {
      "text/html": [
       "<div>\n",
       "<style scoped>\n",
       "    .dataframe tbody tr th:only-of-type {\n",
       "        vertical-align: middle;\n",
       "    }\n",
       "\n",
       "    .dataframe tbody tr th {\n",
       "        vertical-align: top;\n",
       "    }\n",
       "\n",
       "    .dataframe thead th {\n",
       "        text-align: right;\n",
       "    }\n",
       "</style>\n",
       "<table border=\"1\" class=\"dataframe\">\n",
       "  <thead>\n",
       "    <tr style=\"text-align: right;\">\n",
       "      <th></th>\n",
       "      <th>Edad</th>\n",
       "      <th>Género</th>\n",
       "      <th>Ingresos</th>\n",
       "      <th>Altura</th>\n",
       "      <th>Ciudad</th>\n",
       "      <th>Nivel_Educación</th>\n",
       "      <th>Hijos</th>\n",
       "    </tr>\n",
       "  </thead>\n",
       "  <tbody>\n",
       "    <tr>\n",
       "      <th>0</th>\n",
       "      <td>82</td>\n",
       "      <td>F</td>\n",
       "      <td>62297</td>\n",
       "      <td>1.96</td>\n",
       "      <td>Phoenix</td>\n",
       "      <td>NaN</td>\n",
       "      <td>0</td>\n",
       "    </tr>\n",
       "    <tr>\n",
       "      <th>1</th>\n",
       "      <td>15</td>\n",
       "      <td>F</td>\n",
       "      <td>38674</td>\n",
       "      <td>1.83</td>\n",
       "      <td>New York</td>\n",
       "      <td>PhD</td>\n",
       "      <td>4</td>\n",
       "    </tr>\n",
       "    <tr>\n",
       "      <th>2</th>\n",
       "      <td>166</td>\n",
       "      <td>NaN</td>\n",
       "      <td>-1886</td>\n",
       "      <td>1.87</td>\n",
       "      <td>NaN</td>\n",
       "      <td>Bachelors</td>\n",
       "      <td>-5</td>\n",
       "    </tr>\n",
       "    <tr>\n",
       "      <th>3</th>\n",
       "      <td>95</td>\n",
       "      <td>M</td>\n",
       "      <td>29759</td>\n",
       "      <td>1.77</td>\n",
       "      <td>Chicago</td>\n",
       "      <td>PhD</td>\n",
       "      <td>4</td>\n",
       "    </tr>\n",
       "    <tr>\n",
       "      <th>4</th>\n",
       "      <td>36</td>\n",
       "      <td>M</td>\n",
       "      <td>99938</td>\n",
       "      <td>1.78</td>\n",
       "      <td>Phoenix</td>\n",
       "      <td>PhD</td>\n",
       "      <td>5</td>\n",
       "    </tr>\n",
       "    <tr>\n",
       "      <th>...</th>\n",
       "      <td>...</td>\n",
       "      <td>...</td>\n",
       "      <td>...</td>\n",
       "      <td>...</td>\n",
       "      <td>...</td>\n",
       "      <td>...</td>\n",
       "      <td>...</td>\n",
       "    </tr>\n",
       "    <tr>\n",
       "      <th>99995</th>\n",
       "      <td>65</td>\n",
       "      <td>M</td>\n",
       "      <td>62403</td>\n",
       "      <td>1.95</td>\n",
       "      <td>Houston</td>\n",
       "      <td>NaN</td>\n",
       "      <td>1</td>\n",
       "    </tr>\n",
       "    <tr>\n",
       "      <th>99996</th>\n",
       "      <td>74</td>\n",
       "      <td>F</td>\n",
       "      <td>29457</td>\n",
       "      <td>1.81</td>\n",
       "      <td>New York</td>\n",
       "      <td>Master</td>\n",
       "      <td>3</td>\n",
       "    </tr>\n",
       "    <tr>\n",
       "      <th>99997</th>\n",
       "      <td>27</td>\n",
       "      <td>M</td>\n",
       "      <td>48147</td>\n",
       "      <td>1.88</td>\n",
       "      <td>Houston</td>\n",
       "      <td>Master</td>\n",
       "      <td>5</td>\n",
       "    </tr>\n",
       "    <tr>\n",
       "      <th>99998</th>\n",
       "      <td>39</td>\n",
       "      <td>M</td>\n",
       "      <td>92826</td>\n",
       "      <td>1.82</td>\n",
       "      <td>New York</td>\n",
       "      <td>NaN</td>\n",
       "      <td>2</td>\n",
       "    </tr>\n",
       "    <tr>\n",
       "      <th>99999</th>\n",
       "      <td>62</td>\n",
       "      <td>M</td>\n",
       "      <td>74762</td>\n",
       "      <td>1.90</td>\n",
       "      <td>Houston</td>\n",
       "      <td>PhD</td>\n",
       "      <td>3</td>\n",
       "    </tr>\n",
       "  </tbody>\n",
       "</table>\n",
       "<p>100000 rows × 7 columns</p>\n",
       "</div>"
      ],
      "text/plain": [
       "       Edad Género  Ingresos  Altura    Ciudad Nivel_Educación  Hijos\n",
       "0        82      F     62297    1.96   Phoenix             NaN      0\n",
       "1        15      F     38674    1.83  New York             PhD      4\n",
       "2       166    NaN     -1886    1.87       NaN       Bachelors     -5\n",
       "3        95      M     29759    1.77   Chicago             PhD      4\n",
       "4        36      M     99938    1.78   Phoenix             PhD      5\n",
       "...     ...    ...       ...     ...       ...             ...    ...\n",
       "99995    65      M     62403    1.95   Houston             NaN      1\n",
       "99996    74      F     29457    1.81  New York          Master      3\n",
       "99997    27      M     48147    1.88   Houston          Master      5\n",
       "99998    39      M     92826    1.82  New York             NaN      2\n",
       "99999    62      M     74762    1.90   Houston             PhD      3\n",
       "\n",
       "[100000 rows x 7 columns]"
      ]
     },
     "execution_count": 1,
     "metadata": {},
     "output_type": "execute_result"
    }
   ],
   "source": [
    "import pandas as pd\n",
    "import numpy as np\n",
    "\n",
    "df = pd.read_csv('tratamiento_datos.csv', index_col=0)\n",
    "df"
   ]
  },
  {
   "cell_type": "code",
   "execution_count": 2,
   "metadata": {},
   "outputs": [
    {
     "data": {
      "text/html": [
       "<div>\n",
       "<style scoped>\n",
       "    .dataframe tbody tr th:only-of-type {\n",
       "        vertical-align: middle;\n",
       "    }\n",
       "\n",
       "    .dataframe tbody tr th {\n",
       "        vertical-align: top;\n",
       "    }\n",
       "\n",
       "    .dataframe thead th {\n",
       "        text-align: right;\n",
       "    }\n",
       "</style>\n",
       "<table border=\"1\" class=\"dataframe\">\n",
       "  <thead>\n",
       "    <tr style=\"text-align: right;\">\n",
       "      <th></th>\n",
       "      <th>Edad</th>\n",
       "      <th>Ingresos</th>\n",
       "      <th>Altura</th>\n",
       "      <th>Hijos</th>\n",
       "    </tr>\n",
       "  </thead>\n",
       "  <tbody>\n",
       "    <tr>\n",
       "      <th>count</th>\n",
       "      <td>100000.000000</td>\n",
       "      <td>100000.000000</td>\n",
       "      <td>100000.000000</td>\n",
       "      <td>100000.000000</td>\n",
       "    </tr>\n",
       "    <tr>\n",
       "      <th>mean</th>\n",
       "      <td>53.931110</td>\n",
       "      <td>62590.579040</td>\n",
       "      <td>1.749618</td>\n",
       "      <td>1.941560</td>\n",
       "    </tr>\n",
       "    <tr>\n",
       "      <th>std</th>\n",
       "      <td>40.980893</td>\n",
       "      <td>36529.619354</td>\n",
       "      <td>0.144122</td>\n",
       "      <td>2.353844</td>\n",
       "    </tr>\n",
       "    <tr>\n",
       "      <th>min</th>\n",
       "      <td>-10.000000</td>\n",
       "      <td>-2000.000000</td>\n",
       "      <td>1.500000</td>\n",
       "      <td>-5.000000</td>\n",
       "    </tr>\n",
       "    <tr>\n",
       "      <th>25%</th>\n",
       "      <td>23.000000</td>\n",
       "      <td>37658.750000</td>\n",
       "      <td>1.630000</td>\n",
       "      <td>0.000000</td>\n",
       "    </tr>\n",
       "    <tr>\n",
       "      <th>50%</th>\n",
       "      <td>51.000000</td>\n",
       "      <td>59832.000000</td>\n",
       "      <td>1.750000</td>\n",
       "      <td>2.000000</td>\n",
       "    </tr>\n",
       "    <tr>\n",
       "      <th>75%</th>\n",
       "      <td>78.000000</td>\n",
       "      <td>82207.250000</td>\n",
       "      <td>1.870000</td>\n",
       "      <td>4.000000</td>\n",
       "    </tr>\n",
       "    <tr>\n",
       "      <th>max</th>\n",
       "      <td>200.000000</td>\n",
       "      <td>199994.000000</td>\n",
       "      <td>2.000000</td>\n",
       "      <td>5.000000</td>\n",
       "    </tr>\n",
       "  </tbody>\n",
       "</table>\n",
       "</div>"
      ],
      "text/plain": [
       "                Edad       Ingresos         Altura          Hijos\n",
       "count  100000.000000  100000.000000  100000.000000  100000.000000\n",
       "mean       53.931110   62590.579040       1.749618       1.941560\n",
       "std        40.980893   36529.619354       0.144122       2.353844\n",
       "min       -10.000000   -2000.000000       1.500000      -5.000000\n",
       "25%        23.000000   37658.750000       1.630000       0.000000\n",
       "50%        51.000000   59832.000000       1.750000       2.000000\n",
       "75%        78.000000   82207.250000       1.870000       4.000000\n",
       "max       200.000000  199994.000000       2.000000       5.000000"
      ]
     },
     "execution_count": 2,
     "metadata": {},
     "output_type": "execute_result"
    }
   ],
   "source": [
    "df.describe()"
   ]
  },
  {
   "cell_type": "code",
   "execution_count": 3,
   "metadata": {},
   "outputs": [
    {
     "name": "stdout",
     "output_type": "stream",
     "text": [
      "<class 'pandas.core.frame.DataFrame'>\n",
      "Index: 100000 entries, 0 to 99999\n",
      "Data columns (total 7 columns):\n",
      " #   Column           Non-Null Count   Dtype  \n",
      "---  ------           --------------   -----  \n",
      " 0   Edad             100000 non-null  int64  \n",
      " 1   Género           90000 non-null   object \n",
      " 2   Ingresos         100000 non-null  int64  \n",
      " 3   Altura           100000 non-null  float64\n",
      " 4   Ciudad           90000 non-null   object \n",
      " 5   Nivel_Educación  77563 non-null   object \n",
      " 6   Hijos            100000 non-null  int64  \n",
      "dtypes: float64(1), int64(3), object(3)\n",
      "memory usage: 6.1+ MB\n"
     ]
    }
   ],
   "source": [
    "df.info()"
   ]
  },
  {
   "cell_type": "code",
   "execution_count": 4,
   "metadata": {},
   "outputs": [
    {
     "data": {
      "text/plain": [
       "{'F', 'M', nan}"
      ]
     },
     "execution_count": 4,
     "metadata": {},
     "output_type": "execute_result"
    }
   ],
   "source": [
    "set_gen = set(df['Género'].to_list())\n",
    "set_gen"
   ]
  },
  {
   "cell_type": "code",
   "execution_count": 5,
   "metadata": {},
   "outputs": [
    {
     "data": {
      "text/plain": [
       "{'Chicago', 'Houston', 'Los Angeles', 'New York', 'Phoenix', nan}"
      ]
     },
     "execution_count": 5,
     "metadata": {},
     "output_type": "execute_result"
    }
   ],
   "source": [
    "set_ciudad = set(df['Ciudad'].to_list())\n",
    "set_ciudad"
   ]
  },
  {
   "cell_type": "code",
   "execution_count": 6,
   "metadata": {},
   "outputs": [
    {
     "data": {
      "text/plain": [
       "{'Bachelor',\n",
       " 'Bachelors',\n",
       " 'Master',\n",
       " 'PhD',\n",
       " 'mastre',\n",
       " nan,\n",
       " 'no education',\n",
       " 'pHd'}"
      ]
     },
     "execution_count": 6,
     "metadata": {},
     "output_type": "execute_result"
    }
   ],
   "source": [
    "set_estudio = set(df['Nivel_Educación'].to_list())\n",
    "set_estudio"
   ]
  },
  {
   "cell_type": "code",
   "execution_count": 7,
   "metadata": {},
   "outputs": [
    {
     "data": {
      "text/html": [
       "<div>\n",
       "<style scoped>\n",
       "    .dataframe tbody tr th:only-of-type {\n",
       "        vertical-align: middle;\n",
       "    }\n",
       "\n",
       "    .dataframe tbody tr th {\n",
       "        vertical-align: top;\n",
       "    }\n",
       "\n",
       "    .dataframe thead th {\n",
       "        text-align: right;\n",
       "    }\n",
       "</style>\n",
       "<table border=\"1\" class=\"dataframe\">\n",
       "  <thead>\n",
       "    <tr style=\"text-align: right;\">\n",
       "      <th></th>\n",
       "      <th>Edad</th>\n",
       "      <th>Ingresos</th>\n",
       "      <th>Altura</th>\n",
       "      <th>Hijos</th>\n",
       "    </tr>\n",
       "  </thead>\n",
       "  <tbody>\n",
       "    <tr>\n",
       "      <th>count</th>\n",
       "      <td>94955.000000</td>\n",
       "      <td>94987.000000</td>\n",
       "      <td>100000.000000</td>\n",
       "      <td>90000.000000</td>\n",
       "    </tr>\n",
       "    <tr>\n",
       "      <th>mean</th>\n",
       "      <td>57.088505</td>\n",
       "      <td>65972.469033</td>\n",
       "      <td>1.749618</td>\n",
       "      <td>2.490833</td>\n",
       "    </tr>\n",
       "    <tr>\n",
       "      <th>std</th>\n",
       "      <td>39.631137</td>\n",
       "      <td>34302.786505</td>\n",
       "      <td>0.144122</td>\n",
       "      <td>1.708109</td>\n",
       "    </tr>\n",
       "    <tr>\n",
       "      <th>min</th>\n",
       "      <td>1.000000</td>\n",
       "      <td>20001.000000</td>\n",
       "      <td>1.500000</td>\n",
       "      <td>0.000000</td>\n",
       "    </tr>\n",
       "    <tr>\n",
       "      <th>25%</th>\n",
       "      <td>27.000000</td>\n",
       "      <td>41009.500000</td>\n",
       "      <td>1.630000</td>\n",
       "      <td>1.000000</td>\n",
       "    </tr>\n",
       "    <tr>\n",
       "      <th>50%</th>\n",
       "      <td>53.000000</td>\n",
       "      <td>62099.000000</td>\n",
       "      <td>1.750000</td>\n",
       "      <td>2.000000</td>\n",
       "    </tr>\n",
       "    <tr>\n",
       "      <th>75%</th>\n",
       "      <td>80.000000</td>\n",
       "      <td>83338.000000</td>\n",
       "      <td>1.870000</td>\n",
       "      <td>4.000000</td>\n",
       "    </tr>\n",
       "    <tr>\n",
       "      <th>max</th>\n",
       "      <td>200.000000</td>\n",
       "      <td>199994.000000</td>\n",
       "      <td>2.000000</td>\n",
       "      <td>5.000000</td>\n",
       "    </tr>\n",
       "  </tbody>\n",
       "</table>\n",
       "</div>"
      ],
      "text/plain": [
       "               Edad       Ingresos         Altura         Hijos\n",
       "count  94955.000000   94987.000000  100000.000000  90000.000000\n",
       "mean      57.088505   65972.469033       1.749618      2.490833\n",
       "std       39.631137   34302.786505       0.144122      1.708109\n",
       "min        1.000000   20001.000000       1.500000      0.000000\n",
       "25%       27.000000   41009.500000       1.630000      1.000000\n",
       "50%       53.000000   62099.000000       1.750000      2.000000\n",
       "75%       80.000000   83338.000000       1.870000      4.000000\n",
       "max      200.000000  199994.000000       2.000000      5.000000"
      ]
     },
     "execution_count": 7,
     "metadata": {},
     "output_type": "execute_result"
    }
   ],
   "source": [
    "#tratamiento de valores negativos\n",
    "df['Edad']= df['Edad'].apply(lambda x:np.nan if x < 0 else x)\n",
    "df['Ingresos']= df['Ingresos'].apply(lambda x:np.nan if x < 0 else x)\n",
    "df['Hijos']= df['Hijos'].apply(lambda x:np.nan if x < 0 else x)\n",
    "df.describe()"
   ]
  },
  {
   "cell_type": "code",
   "execution_count": 8,
   "metadata": {},
   "outputs": [
    {
     "name": "stderr",
     "output_type": "stream",
     "text": [
      "C:\\Users\\josel\\AppData\\Local\\Temp\\ipykernel_21020\\2419920402.py:4: FutureWarning: A value is trying to be set on a copy of a DataFrame or Series through chained assignment using an inplace method.\n",
      "The behavior will change in pandas 3.0. This inplace method will never work because the intermediate object on which we are setting values always behaves as a copy.\n",
      "\n",
      "For example, when doing 'df[col].method(value, inplace=True)', try using 'df.method({col: value}, inplace=True)' or df[col] = df[col].method(value) instead, to perform the operation inplace on the original object.\n",
      "\n",
      "\n",
      "  df[column].fillna(median_values, inplace=True)\n",
      "C:\\Users\\josel\\AppData\\Local\\Temp\\ipykernel_21020\\2419920402.py:4: FutureWarning: A value is trying to be set on a copy of a DataFrame or Series through chained assignment using an inplace method.\n",
      "The behavior will change in pandas 3.0. This inplace method will never work because the intermediate object on which we are setting values always behaves as a copy.\n",
      "\n",
      "For example, when doing 'df[col].method(value, inplace=True)', try using 'df.method({col: value}, inplace=True)' or df[col] = df[col].method(value) instead, to perform the operation inplace on the original object.\n",
      "\n",
      "\n",
      "  df[column].fillna(median_values, inplace=True)\n",
      "C:\\Users\\josel\\AppData\\Local\\Temp\\ipykernel_21020\\2419920402.py:4: FutureWarning: A value is trying to be set on a copy of a DataFrame or Series through chained assignment using an inplace method.\n",
      "The behavior will change in pandas 3.0. This inplace method will never work because the intermediate object on which we are setting values always behaves as a copy.\n",
      "\n",
      "For example, when doing 'df[col].method(value, inplace=True)', try using 'df.method({col: value}, inplace=True)' or df[col] = df[col].method(value) instead, to perform the operation inplace on the original object.\n",
      "\n",
      "\n",
      "  df[column].fillna(median_values, inplace=True)\n",
      "C:\\Users\\josel\\AppData\\Local\\Temp\\ipykernel_21020\\2419920402.py:8: FutureWarning: A value is trying to be set on a copy of a DataFrame or Series through chained assignment using an inplace method.\n",
      "The behavior will change in pandas 3.0. This inplace method will never work because the intermediate object on which we are setting values always behaves as a copy.\n",
      "\n",
      "For example, when doing 'df[col].method(value, inplace=True)', try using 'df.method({col: value}, inplace=True)' or df[col] = df[col].method(value) instead, to perform the operation inplace on the original object.\n",
      "\n",
      "\n",
      "  df[column].fillna(mode_value, inplace=True)\n"
     ]
    }
   ],
   "source": [
    "#imputar valores faltantes\n",
    "for column in ['Edad', 'Ingresos', 'Hijos']:\n",
    "    median_values = df[column].median()\n",
    "    df[column].fillna(median_values, inplace=True)\n",
    "\n",
    "for columna in ['Género', 'Ciudad']:\n",
    "    mode_value = df[column].mode()[0]\n",
    "    df[column].fillna(mode_value, inplace=True)"
   ]
  },
  {
   "cell_type": "code",
   "execution_count": 9,
   "metadata": {},
   "outputs": [
    {
     "name": "stderr",
     "output_type": "stream",
     "text": [
      "C:\\Users\\josel\\AppData\\Local\\Temp\\ipykernel_21020\\2227537813.py:9: FutureWarning: A value is trying to be set on a copy of a DataFrame or Series through chained assignment using an inplace method.\n",
      "The behavior will change in pandas 3.0. This inplace method will never work because the intermediate object on which we are setting values always behaves as a copy.\n",
      "\n",
      "For example, when doing 'df[col].method(value, inplace=True)', try using 'df.method({col: value}, inplace=True)' or df[col] = df[col].method(value) instead, to perform the operation inplace on the original object.\n",
      "\n",
      "\n",
      "  df['Nivel_Educación'].replace(education_mapping, inplace= True)\n"
     ]
    }
   ],
   "source": [
    "#Mapeo de datos\n",
    "education_mapping= {\n",
    "    'Bachelors':'Bachelor',\n",
    "    'mastre': 'Master',\n",
    "    'pHd':'PhD',\n",
    "    'no education': 'None'\n",
    "}\n",
    "\n",
    "df['Nivel_Educación'].replace(education_mapping, inplace= True)\n",
    "df['Nivel_Educación'].fillna('None', inplace= True)"
   ]
  },
  {
   "cell_type": "code",
   "execution_count": 11,
   "metadata": {},
   "outputs": [
    {
     "name": "stdout",
     "output_type": "stream",
     "text": [
      "<class 'pandas.core.frame.DataFrame'>\n",
      "Index: 100000 entries, 0 to 99999\n",
      "Data columns (total 7 columns):\n",
      " #   Column           Non-Null Count   Dtype  \n",
      "---  ------           --------------   -----  \n",
      " 0   Edad             100000 non-null  int32  \n",
      " 1   Género           90000 non-null   object \n",
      " 2   Ingresos         100000 non-null  float64\n",
      " 3   Altura           100000 non-null  float64\n",
      " 4   Ciudad           90000 non-null   object \n",
      " 5   Nivel_Educación  100000 non-null  object \n",
      " 6   Hijos            100000 non-null  int32  \n",
      "dtypes: float64(2), int32(2), object(3)\n",
      "memory usage: 5.3+ MB\n"
     ]
    },
    {
     "data": {
      "text/plain": [
       "Nivel_Educación\n",
       "Master      25041\n",
       "PhD         25016\n",
       "None        24982\n",
       "Bachelor    24961\n",
       "Name: count, dtype: int64"
      ]
     },
     "execution_count": 11,
     "metadata": {},
     "output_type": "execute_result"
    }
   ],
   "source": [
    "#Casteo de tipos\n",
    "df['Edad']= df['Edad'].astype(int)\n",
    "df['Hijos']= df['Hijos'].astype(int)\n",
    "df['Ingresos']= df['Ingresos'].astype(float)\n",
    "df['Altura']= df['Altura'].astype(float)\n",
    "\n",
    "df.info()\n",
    "df['Nivel_Educación'].unique()\n",
    "df['Nivel_Educación'].value_counts()"
   ]
  },
  {
   "cell_type": "code",
   "execution_count": null,
   "metadata": {},
   "outputs": [],
   "source": []
  }
 ],
 "metadata": {
  "kernelspec": {
   "display_name": "datos",
   "language": "python",
   "name": "python3"
  },
  "language_info": {
   "codemirror_mode": {
    "name": "ipython",
    "version": 3
   },
   "file_extension": ".py",
   "mimetype": "text/x-python",
   "name": "python",
   "nbconvert_exporter": "python",
   "pygments_lexer": "ipython3",
   "version": "3.11.1"
  }
 },
 "nbformat": 4,
 "nbformat_minor": 2
}
